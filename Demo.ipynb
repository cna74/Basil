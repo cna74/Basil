{
 "cells": [
  {
   "cell_type": "code",
   "execution_count": 4,
   "metadata": {},
   "outputs": [],
   "source": [
    "from Basil import Finder, tools"
   ]
  },
  {
   "cell_type": "code",
   "execution_count": 2,
   "metadata": {},
   "outputs": [],
   "source": [
    "finder = Finder(subject=\"apple\", is_group=True)"
   ]
  },
  {
   "cell_type": "markdown",
   "metadata": {},
   "source": [
    "#### Find and Save them"
   ]
  },
  {
   "cell_type": "code",
   "execution_count": 3,
   "metadata": {},
   "outputs": [
    {
     "name": "stdout",
     "output_type": "stream",
     "text": [
      "Train\n",
      "345 image\n",
      "645 unique object\n"
     ]
    },
    {
     "name": "stderr",
     "output_type": "stream",
     "text": [
      "00 100% (23 of 23) |#####################| Elapsed Time: 0:00:09 Time:  0:00:09\n",
      "01 100% (30 of 30) |#####################| Elapsed Time: 0:00:12 Time:  0:00:12\n",
      "03 100% (33 of 33) |#####################| Elapsed Time: 0:00:12 Time:  0:00:12\n",
      "05   8% (4 of 45) |#                     | Elapsed Time: 0:00:01 ETA:   0:00:17\n",
      "05  57% (26 of 45) |############         | Elapsed Time: 0:00:10 ETA:   0:00:07\n",
      "06 100% (32 of 32) |#####################| Elapsed Time: 0:00:12 Time:  0:00:12\n",
      "05 100% (45 of 45) |#####################| Elapsed Time: 0:00:16 Time:  0:00:16\n",
      "07 100% (51 of 51) |#####################| Elapsed Time: 0:00:15 Time:  0:00:15\n",
      "08 100% (62 of 62) |#####################| Elapsed Time: 0:00:09 Time:  0:00:09\n"
     ]
    },
    {
     "name": "stdout",
     "output_type": "stream",
     "text": [
      "done\n",
      "Test\n",
      "64 image\n",
      "99 unique object\n"
     ]
    },
    {
     "name": "stderr",
     "output_type": "stream",
     "text": [
      "st 100% (64 of 64) |#####################| Elapsed Time: 0:00:05 Time:  0:00:05\n"
     ]
    },
    {
     "name": "stdout",
     "output_type": "stream",
     "text": [
      "done\n",
      "Validation\n",
      "16 image\n",
      "0 unique object\n",
      "done\n"
     ]
    }
   ],
   "source": [
    "finder.extract_images()"
   ]
  },
  {
   "cell_type": "markdown",
   "metadata": {},
   "source": [
    "#### Test a few"
   ]
  },
  {
   "cell_type": "code",
   "execution_count": null,
   "metadata": {},
   "outputs": [],
   "source": [
    "finder.bbox_test()"
   ]
  },
  {
   "cell_type": "markdown",
   "metadata": {},
   "source": [
    "#### Restore them"
   ]
  },
  {
   "cell_type": "code",
   "execution_count": null,
   "metadata": {},
   "outputs": [],
   "source": [
    "# finder.restore()"
   ]
  },
  {
   "cell_type": "code",
   "execution_count": 16,
   "metadata": {},
   "outputs": [],
   "source": [
    "d = tools.dict_of_all_classes()"
   ]
  },
  {
   "cell_type": "code",
   "execution_count": 17,
   "metadata": {},
   "outputs": [],
   "source": [
    "d = sorted(d.get(\"Animal\"))"
   ]
  },
  {
   "cell_type": "code",
   "execution_count": 18,
   "metadata": {},
   "outputs": [
    {
     "data": {
      "text/plain": [
       "['Alpaca',\n",
       " 'Animal',\n",
       " 'Ant',\n",
       " 'Antelope',\n",
       " 'Armadillo',\n",
       " 'Bat',\n",
       " 'Bear',\n",
       " 'Bee',\n",
       " 'Beetle',\n",
       " 'Bird',\n",
       " 'Blue jay',\n",
       " 'Brown bear',\n",
       " 'Bull',\n",
       " 'Butterfly',\n",
       " 'Camel',\n",
       " 'Canary',\n",
       " 'Carnivore',\n",
       " 'Cat',\n",
       " 'Caterpillar',\n",
       " 'Cattle',\n",
       " 'Centipede',\n",
       " 'Cheetah',\n",
       " 'Chicken',\n",
       " 'Crab',\n",
       " 'Crocodile',\n",
       " 'Deer',\n",
       " 'Dinosaur',\n",
       " 'Dog',\n",
       " 'Dolphin',\n",
       " 'Dragonfly',\n",
       " 'Duck',\n",
       " 'Eagle',\n",
       " 'Elephant',\n",
       " 'Falcon',\n",
       " 'Fish',\n",
       " 'Fox',\n",
       " 'Frog',\n",
       " 'Giraffe',\n",
       " 'Goat',\n",
       " 'Goldfish',\n",
       " 'Goose',\n",
       " 'Hamster',\n",
       " 'Harbor seal',\n",
       " 'Hedgehog',\n",
       " 'Hippopotamus',\n",
       " 'Horse',\n",
       " 'Insect',\n",
       " 'Invertebrate',\n",
       " 'Isopod',\n",
       " 'Jaguar',\n",
       " 'Jellyfish',\n",
       " 'Kangaroo',\n",
       " 'Koala',\n",
       " 'Ladybug',\n",
       " 'Leopard',\n",
       " 'Lion',\n",
       " 'Lizard',\n",
       " 'Lobster',\n",
       " 'Lynx',\n",
       " 'Magpie',\n",
       " 'Mammal',\n",
       " 'Marine invertebrates',\n",
       " 'Marine mammal',\n",
       " 'Monkey',\n",
       " 'Moths and butterflies',\n",
       " 'Mouse',\n",
       " 'Mule',\n",
       " 'Ostrich',\n",
       " 'Otter',\n",
       " 'Owl',\n",
       " 'Oyster',\n",
       " 'Panda',\n",
       " 'Parrot',\n",
       " 'Penguin',\n",
       " 'Pig',\n",
       " 'Polar bear',\n",
       " 'Porcupine',\n",
       " 'Rabbit',\n",
       " 'Raccoon',\n",
       " 'Raven',\n",
       " 'Rays and skates',\n",
       " 'Red panda',\n",
       " 'Reptile',\n",
       " 'Rhinoceros',\n",
       " 'Scorpion',\n",
       " 'Sea lion',\n",
       " 'Sea turtle',\n",
       " 'Seahorse',\n",
       " 'Shark',\n",
       " 'Sheep',\n",
       " 'Shellfish',\n",
       " 'Shrimp',\n",
       " 'Skunk',\n",
       " 'Snail',\n",
       " 'Snake',\n",
       " 'Sparrow',\n",
       " 'Spider',\n",
       " 'Squid',\n",
       " 'Squirrel',\n",
       " 'Starfish',\n",
       " 'Swan',\n",
       " 'Teddy bear',\n",
       " 'Tick',\n",
       " 'Tiger',\n",
       " 'Tortoise',\n",
       " 'Turkey',\n",
       " 'Turtle',\n",
       " 'Whale',\n",
       " 'Woodpecker',\n",
       " 'Worm',\n",
       " 'Zebra']"
      ]
     },
     "execution_count": 18,
     "metadata": {},
     "output_type": "execute_result"
    }
   ],
   "source": [
    "d"
   ]
  },
  {
   "cell_type": "code",
   "execution_count": null,
   "metadata": {},
   "outputs": [],
   "source": []
  }
 ],
 "metadata": {
  "kernelspec": {
   "display_name": "Python 3",
   "language": "python",
   "name": "python3"
  },
  "language_info": {
   "codemirror_mode": {
    "name": "ipython",
    "version": 3
   },
   "file_extension": ".py",
   "mimetype": "text/x-python",
   "name": "python",
   "nbconvert_exporter": "python",
   "pygments_lexer": "ipython3",
   "version": "3.6.4"
  }
 },
 "nbformat": 4,
 "nbformat_minor": 2
}

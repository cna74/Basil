{
 "cells": [
  {
   "cell_type": "code",
   "execution_count": 1,
   "metadata": {},
   "outputs": [],
   "source": [
    "import Basil\n",
    "import numpy as np"
   ]
  },
  {
   "cell_type": "code",
   "execution_count": 2,
   "metadata": {},
   "outputs": [],
   "source": [
    "search = 'Fruit'"
   ]
  },
  {
   "cell_type": "code",
   "execution_count": 3,
   "metadata": {},
   "outputs": [
    {
     "name": "stdout",
     "output_type": "stream",
     "text": [
      "size = (224, 224) as default"
     ]
    }
   ],
   "source": [
    "finder = Basil.Finder(search)"
   ]
  },
  {
   "cell_type": "code",
   "execution_count": 4,
   "metadata": {},
   "outputs": [
    {
     "name": "stdout",
     "output_type": "stream",
     "text": [
      "8046 unique image\n",
      "36501 unique object\n"
     ]
    },
    {
     "name": "stderr",
     "output_type": "stream",
     "text": [
      "train_00: 100%|######################################################################| 759/759 [31:57<00:00,  2.53s/it]\n",
      "train_01: 100%|######################################################################| 725/725 [31:01<00:00,  2.59s/it]\n",
      "train_02: 100%|######################################################################| 766/766 [34:02<00:00,  2.60s/it]\n",
      "train_03: 100%|######################################################################| 795/795 [34:12<00:00,  2.71s/it]\n",
      "train_04: 100%|######################################################################| 766/766 [35:54<00:00,  2.45s/it]\n",
      "train_05: 100%|######################################################################| 841/841 [34:52<00:00,  2.54s/it]\n",
      "train_06: 100%|######################################################################| 967/967 [45:00<00:00,  2.72s/it]\n",
      "train_07: 100%|####################################################################| 1280/1280 [56:33<00:00,  2.55s/it]\n",
      "train_08: 100%|####################################################################| 1147/1147 [36:45<00:00,  1.95s/it]\n"
     ]
    }
   ],
   "source": [
    "np.save(search, finder.get_imgs_with_bbox())"
   ]
  },
  {
   "cell_type": "code",
   "execution_count": null,
   "metadata": {},
   "outputs": [],
   "source": []
  }
 ],
 "metadata": {
  "kernelspec": {
   "display_name": "Python 3",
   "language": "python",
   "name": "python3"
  },
  "language_info": {
   "codemirror_mode": {
    "name": "ipython",
    "version": 3
   },
   "file_extension": ".py",
   "mimetype": "text/x-python",
   "name": "python",
   "nbconvert_exporter": "python",
   "pygments_lexer": "ipython3",
   "version": "3.6.5"
  }
 },
 "nbformat": 4,
 "nbformat_minor": 2
}

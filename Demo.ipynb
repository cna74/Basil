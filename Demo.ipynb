{
 "cells": [
  {
   "cell_type": "code",
   "execution_count": 1,
   "metadata": {},
   "outputs": [],
   "source": [
    "import Basil"
   ]
  },
  {
   "cell_type": "code",
   "execution_count": 4,
   "metadata": {},
   "outputs": [],
   "source": [
    "finder = Basil.Finder(subject=\"glove\", etc=True)"
   ]
  },
  {
   "cell_type": "markdown",
   "metadata": {},
   "source": [
    "#### Find them"
   ]
  },
  {
   "cell_type": "code",
   "execution_count": null,
   "metadata": {},
   "outputs": [
    {
     "name": "stdout",
     "output_type": "stream",
     "text": [
      "2404 unique image\n",
      "3727 unique object\n"
     ]
    },
    {
     "name": "stderr",
     "output_type": "stream",
     "text": [
      "train_03  100% (232 of 232) |############| Elapsed Time: 0:00:57 Time:  0:00:57\n",
      "train_02  100% (235 of 235) |############| Elapsed Time: 0:00:58 Time:  0:00:58\n",
      "train_01  100% (239 of 239) |############| Elapsed Time: 0:01:00 Time:  0:01:00\n",
      "train_00  100% (277 of 277) |############| Elapsed Time: 0:01:12 Time:  0:01:12\n",
      "train_04  100% (249 of 249) |############| Elapsed Time: 0:01:09 Time:  0:01:09\n",
      "train_06  100% (274 of 274) |############| Elapsed Time: 0:01:14 Time:  0:01:14\n",
      "train_05  100% (267 of 267) |############| Elapsed Time: 0:01:20 Time:  0:01:20\n",
      "train_07  100% (255 of 255) |############| Elapsed Time: 0:01:14 Time:  0:01:14\n",
      "train_08   42% (160 of 376) |#####       | Elapsed Time: 0:00:14 ETA:   0:00:20"
     ]
    }
   ],
   "source": [
    "finder.fill_images_with_bbox()"
   ]
  },
  {
   "cell_type": "markdown",
   "metadata": {},
   "source": [
    "#### Test a few"
   ]
  },
  {
   "cell_type": "code",
   "execution_count": null,
   "metadata": {},
   "outputs": [],
   "source": [
    "finder.bbox_test()"
   ]
  },
  {
   "cell_type": "markdown",
   "metadata": {},
   "source": [
    "#### Save them"
   ]
  },
  {
   "cell_type": "code",
   "execution_count": null,
   "metadata": {},
   "outputs": [],
   "source": [
    "finder.store_data()"
   ]
  },
  {
   "cell_type": "markdown",
   "metadata": {},
   "source": [
    "#### Restore them"
   ]
  },
  {
   "cell_type": "code",
   "execution_count": null,
   "metadata": {},
   "outputs": [],
   "source": [
    "# finder.restore()"
   ]
  },
  {
   "cell_type": "code",
   "execution_count": 5,
   "metadata": {},
   "outputs": [
    {
     "data": {
      "text/plain": [
       "{'Baseball glove', 'Glove'}"
      ]
     },
     "execution_count": 5,
     "metadata": {},
     "output_type": "execute_result"
    }
   ],
   "source": [
    "finder.search_result"
   ]
  },
  {
   "cell_type": "code",
   "execution_count": null,
   "metadata": {},
   "outputs": [],
   "source": []
  }
 ],
 "metadata": {
  "kernelspec": {
   "display_name": "Python 3",
   "language": "python",
   "name": "python3"
  },
  "language_info": {
   "codemirror_mode": {
    "name": "ipython",
    "version": 3
   },
   "file_extension": ".py",
   "mimetype": "text/x-python",
   "name": "python",
   "nbconvert_exporter": "python",
   "pygments_lexer": "ipython3",
   "version": "3.6.4"
  }
 },
 "nbformat": 4,
 "nbformat_minor": 2
}
